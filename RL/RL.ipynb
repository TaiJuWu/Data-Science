{
  "nbformat": 4,
  "nbformat_minor": 0,
  "metadata": {
    "kernelspec": {
      "display_name": "Python 3",
      "language": "python",
      "name": "python3"
    },
    "language_info": {
      "codemirror_mode": {
        "name": "ipython",
        "version": 3
      },
      "file_extension": ".py",
      "mimetype": "text/x-python",
      "name": "python",
      "nbconvert_exporter": "python",
      "pygments_lexer": "ipython3",
      "version": "3.6.8"
    },
    "colab": {
      "name": "Copy of cartpole_dqn.ipynb",
      "provenance": [],
      "collapsed_sections": []
    },
    "widgets": {
      "application/vnd.jupyter.widget-state+json": {
        "0adf1ecd4bd34203b63f69dc8a85ab14": {
          "model_module": "@jupyter-widgets/controls",
          "model_name": "HBoxModel",
          "state": {
            "_view_name": "HBoxView",
            "_dom_classes": [],
            "_model_name": "HBoxModel",
            "_view_module": "@jupyter-widgets/controls",
            "_model_module_version": "1.5.0",
            "_view_count": null,
            "_view_module_version": "1.5.0",
            "box_style": "",
            "layout": "IPY_MODEL_bcaa459917b44eb78008db061af020b3",
            "_model_module": "@jupyter-widgets/controls",
            "children": [
              "IPY_MODEL_3f6e7830964a4c8c8f0cf3424642125d",
              "IPY_MODEL_3e3c8940668a4b1eb3b5e228ada80e0e"
            ]
          }
        },
        "bcaa459917b44eb78008db061af020b3": {
          "model_module": "@jupyter-widgets/base",
          "model_name": "LayoutModel",
          "state": {
            "_view_name": "LayoutView",
            "grid_template_rows": null,
            "right": null,
            "justify_content": null,
            "_view_module": "@jupyter-widgets/base",
            "overflow": null,
            "_model_module_version": "1.2.0",
            "_view_count": null,
            "flex_flow": null,
            "width": null,
            "min_width": null,
            "border": null,
            "align_items": null,
            "bottom": null,
            "_model_module": "@jupyter-widgets/base",
            "top": null,
            "grid_column": null,
            "overflow_y": null,
            "overflow_x": null,
            "grid_auto_flow": null,
            "grid_area": null,
            "grid_template_columns": null,
            "flex": null,
            "_model_name": "LayoutModel",
            "justify_items": null,
            "grid_row": null,
            "max_height": null,
            "align_content": null,
            "visibility": null,
            "align_self": null,
            "height": null,
            "min_height": null,
            "padding": null,
            "grid_auto_rows": null,
            "grid_gap": null,
            "max_width": null,
            "order": null,
            "_view_module_version": "1.2.0",
            "grid_template_areas": null,
            "object_position": null,
            "object_fit": null,
            "grid_auto_columns": null,
            "margin": null,
            "display": null,
            "left": null
          }
        },
        "3f6e7830964a4c8c8f0cf3424642125d": {
          "model_module": "@jupyter-widgets/controls",
          "model_name": "FloatProgressModel",
          "state": {
            "_view_name": "ProgressView",
            "style": "IPY_MODEL_5e50cb78c6cd4cae8c5e9cb98268617c",
            "_dom_classes": [],
            "description": "100%",
            "_model_name": "FloatProgressModel",
            "bar_style": "success",
            "max": 2001,
            "_view_module": "@jupyter-widgets/controls",
            "_model_module_version": "1.5.0",
            "value": 2001,
            "_view_count": null,
            "_view_module_version": "1.5.0",
            "orientation": "horizontal",
            "min": 0,
            "description_tooltip": null,
            "_model_module": "@jupyter-widgets/controls",
            "layout": "IPY_MODEL_46ae7b5be84b4f25b31ae87277b037a6"
          }
        },
        "3e3c8940668a4b1eb3b5e228ada80e0e": {
          "model_module": "@jupyter-widgets/controls",
          "model_name": "HTMLModel",
          "state": {
            "_view_name": "HTMLView",
            "style": "IPY_MODEL_9b29ce6014ce4cce9cc48252a6e093ec",
            "_dom_classes": [],
            "description": "",
            "_model_name": "HTMLModel",
            "placeholder": "​",
            "_view_module": "@jupyter-widgets/controls",
            "_model_module_version": "1.5.0",
            "value": " 2001/2001 [42:13&lt;00:00,  1.27s/it]",
            "_view_count": null,
            "_view_module_version": "1.5.0",
            "description_tooltip": null,
            "_model_module": "@jupyter-widgets/controls",
            "layout": "IPY_MODEL_d7d7d5cad48245268de047420b621ffd"
          }
        },
        "5e50cb78c6cd4cae8c5e9cb98268617c": {
          "model_module": "@jupyter-widgets/controls",
          "model_name": "ProgressStyleModel",
          "state": {
            "_view_name": "StyleView",
            "_model_name": "ProgressStyleModel",
            "description_width": "initial",
            "_view_module": "@jupyter-widgets/base",
            "_model_module_version": "1.5.0",
            "_view_count": null,
            "_view_module_version": "1.2.0",
            "bar_color": null,
            "_model_module": "@jupyter-widgets/controls"
          }
        },
        "46ae7b5be84b4f25b31ae87277b037a6": {
          "model_module": "@jupyter-widgets/base",
          "model_name": "LayoutModel",
          "state": {
            "_view_name": "LayoutView",
            "grid_template_rows": null,
            "right": null,
            "justify_content": null,
            "_view_module": "@jupyter-widgets/base",
            "overflow": null,
            "_model_module_version": "1.2.0",
            "_view_count": null,
            "flex_flow": null,
            "width": null,
            "min_width": null,
            "border": null,
            "align_items": null,
            "bottom": null,
            "_model_module": "@jupyter-widgets/base",
            "top": null,
            "grid_column": null,
            "overflow_y": null,
            "overflow_x": null,
            "grid_auto_flow": null,
            "grid_area": null,
            "grid_template_columns": null,
            "flex": null,
            "_model_name": "LayoutModel",
            "justify_items": null,
            "grid_row": null,
            "max_height": null,
            "align_content": null,
            "visibility": null,
            "align_self": null,
            "height": null,
            "min_height": null,
            "padding": null,
            "grid_auto_rows": null,
            "grid_gap": null,
            "max_width": null,
            "order": null,
            "_view_module_version": "1.2.0",
            "grid_template_areas": null,
            "object_position": null,
            "object_fit": null,
            "grid_auto_columns": null,
            "margin": null,
            "display": null,
            "left": null
          }
        },
        "9b29ce6014ce4cce9cc48252a6e093ec": {
          "model_module": "@jupyter-widgets/controls",
          "model_name": "DescriptionStyleModel",
          "state": {
            "_view_name": "StyleView",
            "_model_name": "DescriptionStyleModel",
            "description_width": "",
            "_view_module": "@jupyter-widgets/base",
            "_model_module_version": "1.5.0",
            "_view_count": null,
            "_view_module_version": "1.2.0",
            "_model_module": "@jupyter-widgets/controls"
          }
        },
        "d7d7d5cad48245268de047420b621ffd": {
          "model_module": "@jupyter-widgets/base",
          "model_name": "LayoutModel",
          "state": {
            "_view_name": "LayoutView",
            "grid_template_rows": null,
            "right": null,
            "justify_content": null,
            "_view_module": "@jupyter-widgets/base",
            "overflow": null,
            "_model_module_version": "1.2.0",
            "_view_count": null,
            "flex_flow": null,
            "width": null,
            "min_width": null,
            "border": null,
            "align_items": null,
            "bottom": null,
            "_model_module": "@jupyter-widgets/base",
            "top": null,
            "grid_column": null,
            "overflow_y": null,
            "overflow_x": null,
            "grid_auto_flow": null,
            "grid_area": null,
            "grid_template_columns": null,
            "flex": null,
            "_model_name": "LayoutModel",
            "justify_items": null,
            "grid_row": null,
            "max_height": null,
            "align_content": null,
            "visibility": null,
            "align_self": null,
            "height": null,
            "min_height": null,
            "padding": null,
            "grid_auto_rows": null,
            "grid_gap": null,
            "max_width": null,
            "order": null,
            "_view_module_version": "1.2.0",
            "grid_template_areas": null,
            "object_position": null,
            "object_fit": null,
            "grid_auto_columns": null,
            "margin": null,
            "display": null,
            "left": null
          }
        }
      }
    }
  },
  "cells": [
    {
      "cell_type": "code",
      "metadata": {
        "id": "Lwqd8pBf8tQZ",
        "colab_type": "code",
        "outputId": "a72d81c7-d5e5-4f67-f368-7293c6fae196",
        "colab": {
          "base_uri": "https://localhost:8080/",
          "height": 120
        }
      },
      "source": [
        "from google.colab import drive\n",
        "drive.mount('/content/drive')"
      ],
      "execution_count": 1,
      "outputs": [
        {
          "output_type": "stream",
          "text": [
            "Go to this URL in a browser: https://accounts.google.com/o/oauth2/auth?client_id=947318989803-6bn6qk8qdgf4n4g3pfee6491hc0brc4i.apps.googleusercontent.com&redirect_uri=urn%3aietf%3awg%3aoauth%3a2.0%3aoob&response_type=code&scope=email%20https%3a%2f%2fwww.googleapis.com%2fauth%2fdocs.test%20https%3a%2f%2fwww.googleapis.com%2fauth%2fdrive%20https%3a%2f%2fwww.googleapis.com%2fauth%2fdrive.photos.readonly%20https%3a%2f%2fwww.googleapis.com%2fauth%2fpeopleapi.readonly\n",
            "\n",
            "Enter your authorization code:\n",
            "··········\n",
            "Mounted at /content/drive\n"
          ],
          "name": "stdout"
        }
      ]
    },
    {
      "cell_type": "code",
      "metadata": {
        "id": "F7i6FkL6_ElP",
        "colab_type": "code",
        "outputId": "49d7dd8d-9bc5-40b7-9ec1-179fed3b62ad",
        "colab": {
          "base_uri": "https://localhost:8080/",
          "height": 672
        }
      },
      "source": [
        "!apt install swig\n",
        "!pip3 install box2d box2d-kengz"
      ],
      "execution_count": 2,
      "outputs": [
        {
          "output_type": "stream",
          "text": [
            "Reading package lists... Done\n",
            "Building dependency tree       \n",
            "Reading state information... Done\n",
            "The following additional packages will be installed:\n",
            "  swig3.0\n",
            "Suggested packages:\n",
            "  swig-doc swig-examples swig3.0-examples swig3.0-doc\n",
            "The following NEW packages will be installed:\n",
            "  swig swig3.0\n",
            "0 upgraded, 2 newly installed, 0 to remove and 32 not upgraded.\n",
            "Need to get 1,100 kB of archives.\n",
            "After this operation, 5,822 kB of additional disk space will be used.\n",
            "Get:1 http://archive.ubuntu.com/ubuntu bionic/universe amd64 swig3.0 amd64 3.0.12-1 [1,094 kB]\n",
            "Get:2 http://archive.ubuntu.com/ubuntu bionic/universe amd64 swig amd64 3.0.12-1 [6,460 B]\n",
            "Fetched 1,100 kB in 1s (1,314 kB/s)\n",
            "Selecting previously unselected package swig3.0.\n",
            "(Reading database ... 144467 files and directories currently installed.)\n",
            "Preparing to unpack .../swig3.0_3.0.12-1_amd64.deb ...\n",
            "Unpacking swig3.0 (3.0.12-1) ...\n",
            "Selecting previously unselected package swig.\n",
            "Preparing to unpack .../swig_3.0.12-1_amd64.deb ...\n",
            "Unpacking swig (3.0.12-1) ...\n",
            "Setting up swig3.0 (3.0.12-1) ...\n",
            "Setting up swig (3.0.12-1) ...\n",
            "Processing triggers for man-db (2.8.3-2ubuntu0.1) ...\n",
            "Collecting box2d\n",
            "\u001b[?25l  Downloading https://files.pythonhosted.org/packages/a9/0b/d48d42dd9e19ce83a3fb4eee074e785b6c6ea612a2244dc2ef69427d338b/Box2D-2.3.10-cp36-cp36m-manylinux1_x86_64.whl (1.3MB)\n",
            "\u001b[K     |████████████████████████████████| 1.3MB 2.8MB/s \n",
            "\u001b[?25hCollecting box2d-kengz\n",
            "\u001b[?25l  Downloading https://files.pythonhosted.org/packages/81/20/51d6c0c87f7642efb709c518fb0ca8e5eab068259588552c41da5926ae27/Box2D-kengz-2.3.3.tar.gz (425kB)\n",
            "\u001b[K     |████████████████████████████████| 430kB 15.5MB/s \n",
            "\u001b[?25hBuilding wheels for collected packages: box2d-kengz\n",
            "  Building wheel for box2d-kengz (setup.py) ... \u001b[?25l\u001b[?25hdone\n",
            "  Created wheel for box2d-kengz: filename=Box2D_kengz-2.3.3-cp36-cp36m-linux_x86_64.whl size=2019084 sha256=ee9e211ba0359aa0e5855a30b1e861efb3c452da988354fda0f876f0e60e1f1b\n",
            "  Stored in directory: /root/.cache/pip/wheels/75/ae/e5/8bc678d262caad94659c199c540550e59d03dd3bd3684d4f1a\n",
            "Successfully built box2d-kengz\n",
            "Installing collected packages: box2d, box2d-kengz\n",
            "Successfully installed box2d-2.3.10 box2d-kengz-2.3.3\n"
          ],
          "name": "stdout"
        }
      ]
    },
    {
      "cell_type": "code",
      "metadata": {
        "id": "Te9NaHah8zjA",
        "colab_type": "code",
        "colab": {}
      },
      "source": [
        "import gym\n",
        "import torch\n",
        "import torch.nn as nn\n",
        "import torch.nn.functional as F\n",
        "import numpy as np\n",
        "import math\n",
        "import random\n",
        "from collections import namedtuple\n",
        "import warnings\n",
        "from tqdm import tqdm_notebook as tqdm\n",
        "warnings.filterwarnings('ignore')"
      ],
      "execution_count": 0,
      "outputs": []
    },
    {
      "cell_type": "code",
      "metadata": {
        "id": "0oIVcowu8tQd",
        "colab_type": "code",
        "colab": {}
      },
      "source": [
        "env = gym.make('LunarLander-v2')"
      ],
      "execution_count": 0,
      "outputs": []
    },
    {
      "cell_type": "code",
      "metadata": {
        "id": "O19Ss0Mu8tQf",
        "colab_type": "code",
        "outputId": "d8166db8-28e2-4204-8813-7e1f7a07df3d",
        "colab": {
          "base_uri": "https://localhost:8080/",
          "height": 50
        }
      },
      "source": [
        "num_state = env.observation_space.shape[0]\n",
        "num_action = env.action_space.n\n",
        "print(num_state)\n",
        "print(num_action)"
      ],
      "execution_count": 5,
      "outputs": [
        {
          "output_type": "stream",
          "text": [
            "8\n",
            "4\n"
          ],
          "name": "stdout"
        }
      ]
    },
    {
      "cell_type": "code",
      "metadata": {
        "id": "WUGAkvC88tQi",
        "colab_type": "code",
        "colab": {}
      },
      "source": [
        "# create a neural network\n",
        "class network(nn.Module):\n",
        "    \n",
        "    def __init__(self , num_state , num_action):\n",
        "        \n",
        "        super().__init__()\n",
        "        self.fc1 = nn.Linear(num_state , 50 )\n",
        "        ## more hidden\n",
        "        self.out = nn.Linear(50 , num_action )\n",
        "        \n",
        "    def forward(self , x):\n",
        "        \n",
        "        x = F.relu(self.fc1(x))\n",
        "        x = self.out(x)\n",
        "        return x\n",
        "\n",
        "class ReplayBuffer(object):\n",
        "    '''\n",
        "    This code is copied from openAI baselines\n",
        "    https://github.com/openai/baselines/blob/master/baselines/deepq/replay_buffer.py\n",
        "    '''\n",
        "    def __init__(self, size):\n",
        "        self._storage = []\n",
        "        self._maxsize = size \n",
        "        self._next_idx = 0 # index\n",
        "    # return storage length\n",
        "    def __len__(self):\n",
        "        return len(self._storage)\n",
        "\n",
        "    def add(self, obs_t, action, reward, obs_tp1, done):\n",
        "        #　current state ,action ,reward ,next_state .done\n",
        "        data = (obs_t, action, reward, obs_tp1, done)\n",
        "\n",
        "        if self._next_idx >= len(self._storage):\n",
        "            self._storage.append(data)\n",
        "        else:\n",
        "            self._storage[self._next_idx] = data\n",
        "        self._next_idx = (self._next_idx + 1) % self._maxsize # indicate empty\n",
        "\n",
        "    def _encode_sample(self, idxes , dtype = np.float32):\n",
        "        # sample some data in idxes\n",
        "        obses_t, actions, rewards, obses_tp1, dones = [], [], [], [], []\n",
        "        for i in idxes:\n",
        "            data = self._storage[i]\n",
        "            obs_t, action, reward, obs_tp1, done = data\n",
        "            obses_t.append(np.array(obs_t, copy=False,dtype=dtype))\n",
        "            actions.append(np.array(action, copy=False,dtype=np.long))\n",
        "            rewards.append(reward)\n",
        "            obses_tp1.append(np.array(obs_tp1, copy=False,dtype=dtype))\n",
        "            dones.append(done)\n",
        "        return np.array(obses_t,dtype=dtype), np.array(actions , dtype = np.long), \\\n",
        "    np.array(rewards  ,dtype=dtype), np.array(obses_tp1,dtype=dtype), np.array(dones , dtype = bool)\n",
        "    \n",
        "    \n",
        "    def sample(self, batch_size):\n",
        "        # sample some data in replay buffer\n",
        "        idxes = [random.randint(0, len(self._storage) - 1) for _ in range(batch_size)]\n",
        "        return self._encode_sample(idxes)\n",
        "\n",
        "    \n",
        "class Agent():\n",
        "    \n",
        "    def __init__(self , num_state , num_action):\n",
        "        \n",
        "        \n",
        "        # q-learning is off-policy\n",
        "        self.policy_network = network(num_state , num_action)\n",
        "        self.target_network = network(num_state , num_action)\n",
        "        \n",
        "        # target_network use parameter in policy_network\n",
        "        self.target_network.load_state_dict(self.policy_network.state_dict())\n",
        "        \n",
        "        self.steps_done = 0\n",
        "        self.num_state = num_state\n",
        "        self.num_action = num_action\n",
        "        \n",
        "        # what is the purpose of EPS?? use eps-greedy\n",
        "        self.EPS_END = 0.05\n",
        "        self.EPS_START = 0.999\n",
        "        \n",
        "        self.EPS_DECAY = 1000\n",
        "        self.batch_size = 64\n",
        "        self.buffer = ReplayBuffer( 4000 ) # create a replay buffer with size 4000\n",
        "        # amsgrad: whether to use the AMSGrad variant of this algorithm from the paper On the Convergence of Adam and Beyond\n",
        "        self.optimizer = torch.optim.Adam(self.policy_network.parameters()   , amsgrad=True) # define optimizer\n",
        "        \n",
        "    def take_action(self , x , is_testing = False ) : # testing mean that we don't sue eps-greddy\n",
        "        # use eps-greedy\n",
        "        eps_threshold = self.EPS_END + (self.EPS_START - self.EPS_END) * \\\n",
        "            math.exp(-1. * self.steps_done / self.EPS_DECAY)\n",
        "        \n",
        "        x = x.astype(np.float32)\n",
        "        x = torch.from_numpy(x) # numpy transform into torch\n",
        "        rand_val = np.random.uniform() # Samples are uniformly distributed over the half-open interval [low, high)\n",
        "        if rand_val > eps_threshold or is_testing == True:\n",
        "            val = self.policy_network(x)\n",
        "            # argmax: Returns the indices of the maximum value of all elements in the input tensor.\n",
        "            # item: transfor into int\n",
        "            action = torch.argmax(val).item() \n",
        "        else:\n",
        "            action = np.random.randint(0 , self.num_action )\n",
        "        \n",
        "        if is_testing == False:\n",
        "            self.steps_done += 1\n",
        "        \n",
        "        return action\n",
        "            \n",
        "    # store state information in replay buffer\n",
        "    def store_transition(self, state , action , reward , next_state , done ):\n",
        "        \n",
        "        self.buffer.add(state , action , reward , next_state , done)\n",
        "    \n",
        "    def update_parameters(self):\n",
        "        # need read again\n",
        "        # buffer length is not enough to sample\n",
        "        if len(self.buffer) < self.batch_size:\n",
        "            return \n",
        "        # use MSELoss\n",
        "        loss_fn = torch.nn.MSELoss(reduction = 'mean')\n",
        "        \n",
        "        batch = self.buffer.sample(self.batch_size)\n",
        "        states , actions , rewards , next_states , dones = batch\n",
        "        states = torch.from_numpy(states)\n",
        "        actions = torch.from_numpy(actions).view(-1,1) # equal numpy.reshape\n",
        "        rewards = torch.from_numpy(rewards)\n",
        "        next_states = torch.from_numpy(next_states)\n",
        "        actions = actions.long() # Q: ??\n",
        "        \n",
        "        # Q: identify state is final state or not/\n",
        "        # the input of lambda is done\n",
        "        non_final_mask = torch.tensor(tuple(map(lambda s : s != True, dones)) ,dtype = torch.bool)\n",
        "        non_final_next_state = next_states[non_final_mask]\n",
        "        \n",
        "        # Q估計\n",
        "        pred_q = self.policy_network(states).gather(1 , actions).view(-1)  # G(t)\n",
        "        \n",
        "        # detach的方法，将variable参数从网络中隔离开，不参与参数更新。\n",
        "        next_state_value = torch.zeros(self.batch_size).detach()\n",
        "        # use \"target\" to predict\n",
        "        # Q: why need [0]?? return is (value ,index)\n",
        "        next_state_value[non_final_mask] = self.target_network(non_final_next_state).max(1)[0] #  rt + argmax a'(st+1 ,a')\n",
        "        expected_q = (next_state_value + rewards).detach() # Q現實\n",
        "        \n",
        "        \n",
        "        loss = loss_fn(pred_q , expected_q) # TD error\n",
        "        \n",
        "        self.optimizer.zero_grad()\n",
        "        loss.backward()\n",
        "        self.optimizer.step()\n",
        "        \n",
        "    def update_target_weight(self):\n",
        "        self.target_network.load_state_dict(self.policy_network.state_dict())\n"
      ],
      "execution_count": 0,
      "outputs": []
    },
    {
      "cell_type": "code",
      "metadata": {
        "id": "a4GhFOyL8tQk",
        "colab_type": "code",
        "colab": {}
      },
      "source": [
        "from PIL import Image\n",
        "import time\n",
        "def get_snap_shot(agent ,env_name , gif_filename = None):\n",
        "    try:\n",
        "        \n",
        "        if gif_filename != None:\n",
        "            frames = []\n",
        "        \n",
        "        env = gym.make(env_name)\n",
        "        state = env.reset()\n",
        "        done = False\n",
        "        rew_sum = 0.0\n",
        "        while done == False:\n",
        "            if gif_filename != None:\n",
        "                frames.append(Image.fromarray(env.render(mode='rgb_array')))\n",
        "            else:\n",
        "                env.render()\n",
        "            action = agent.take_action(state , is_testing = True)\n",
        "            next_state , reward , done , _ = env.step(action)\n",
        "            rew_sum += reward\n",
        "            state = next_state[:]\n",
        "        print('total reward',rew_sum)\n",
        "        \n",
        "        if gif_filename != None:\n",
        "            with open(gif_filename,'wb') as f:\n",
        "                im = Image.new('RGB', frames[0].size)\n",
        "                im.save(f, save_all=True, append_images=frames)\n",
        "        time.sleep(1.5) #Prevent kernel dead\n",
        "        \n",
        "    finally:\n",
        "        env.close()\n",
        "        \n",
        "        "
      ],
      "execution_count": 0,
      "outputs": []
    },
    {
      "cell_type": "code",
      "metadata": {
        "id": "_W25oImJ-ELi",
        "colab_type": "code",
        "colab": {}
      },
      "source": [
        "#remove \" > /dev/null 2>&1\" to see what is going on under the hood\n",
        "!pip install gym pyvirtualdisplay > /dev/null 2>&1\n",
        "!apt-get install -y xvfb python-opengl ffmpeg > /dev/null 2>&1"
      ],
      "execution_count": 0,
      "outputs": []
    },
    {
      "cell_type": "code",
      "metadata": {
        "id": "d6Vrk9hx-E1Z",
        "colab_type": "code",
        "outputId": "a78ad14f-bf65-4c5e-9e8a-9f87e83b1ace",
        "colab": {
          "base_uri": "https://localhost:8080/",
          "height": 33
        }
      },
      "source": [
        "!apt-get update > /dev/null 2>&1\n",
        "!apt-get install cmake > /dev/null 2>&1\n",
        "!pip install --upgrade setuptools 2>&1\n",
        "!pip install ez_setup > /dev/null 2>&1\n",
        "!pip install gym[atari] > /dev/null 2>&1"
      ],
      "execution_count": 9,
      "outputs": [
        {
          "output_type": "stream",
          "text": [
            "Requirement already up-to-date: setuptools in /usr/local/lib/python3.6/dist-packages (47.1.1)\n"
          ],
          "name": "stdout"
        }
      ]
    },
    {
      "cell_type": "code",
      "metadata": {
        "id": "PBrFzkrX-E4v",
        "colab_type": "code",
        "colab": {}
      },
      "source": [
        "import gym\n",
        "from gym import logger as gymlogger\n",
        "from gym.wrappers import Monitor\n",
        "gymlogger.set_level(40) #error only\n",
        "import tensorflow as tf\n",
        "import numpy as np\n",
        "import random\n",
        "import matplotlib\n",
        "import matplotlib.pyplot as plt\n",
        "%matplotlib inline\n",
        "import math\n",
        "import glob\n",
        "import io\n",
        "import base64\n",
        "from IPython.display import HTML\n",
        "\n",
        "from IPython import display as ipythondisplay\n",
        "import os"
      ],
      "execution_count": 0,
      "outputs": []
    },
    {
      "cell_type": "code",
      "metadata": {
        "id": "LLBhQNVX-E8D",
        "colab_type": "code",
        "outputId": "944fe49e-5bec-43be-ff9d-354e8a2cd7b3",
        "colab": {
          "base_uri": "https://localhost:8080/",
          "height": 33
        }
      },
      "source": [
        "from pyvirtualdisplay import Display\n",
        "display = Display(visible=0, size=(1400, 900))\n",
        "display.start()"
      ],
      "execution_count": 11,
      "outputs": [
        {
          "output_type": "execute_result",
          "data": {
            "text/plain": [
              "<pyvirtualdisplay.display.Display at 0x7f7ed6cf0470>"
            ]
          },
          "metadata": {
            "tags": []
          },
          "execution_count": 11
        }
      ]
    },
    {
      "cell_type": "code",
      "metadata": {
        "scrolled": false,
        "id": "nxCXNWp38tQm",
        "colab_type": "code",
        "outputId": "9fba0da5-b3df-4482-ce3e-a16e334e1637",
        "colab": {
          "base_uri": "https://localhost:8080/",
          "height": 1000,
          "referenced_widgets": [
            "0adf1ecd4bd34203b63f69dc8a85ab14",
            "bcaa459917b44eb78008db061af020b3",
            "3f6e7830964a4c8c8f0cf3424642125d",
            "3e3c8940668a4b1eb3b5e228ada80e0e",
            "5e50cb78c6cd4cae8c5e9cb98268617c",
            "46ae7b5be84b4f25b31ae87277b037a6",
            "9b29ce6014ce4cce9cc48252a6e093ec",
            "d7d7d5cad48245268de047420b621ffd"
          ]
        }
      },
      "source": [
        "agent = Agent(num_state , num_action)\n",
        "reward_history = []\n",
        "try:                \n",
        "    env = gym.make('LunarLander-v2')\n",
        "    for e in tqdm(range(2001)):\n",
        "        state = env.reset()\n",
        "        done = False\n",
        "        reward_sum = 0.0\n",
        "        while done == False:\n",
        "            env.render()\n",
        "            action = agent.take_action(state)\n",
        "            next_state , reward , done , _ = env.step(action)\n",
        "            # print(state)\n",
        "            # reward shapping\n",
        "            # 如果X軸偏離原本的位置，則給出懲罰\n",
        "            # 如果機器有往下,給出獎勵 \n",
        "            # 高度越高給出懲罰\n",
        "            # 有旋轉也給出懲罰\n",
        "            reward = reward - abs(state[0]) - abs(state[1]) - abs(state[4]) - state[3] * 10\n",
        "\n",
        "            # reward = reward - abs(state[0]) + abs(state[1]+0.4) -abs(state[2]) - abs(state[3]) - abs(state[4]) - abs(state[5])\n",
        "            reward_sum += reward\n",
        "            agent.store_transition( state , action , reward , next_state , done )\n",
        "            state = next_state[:]\n",
        "            agent.update_parameters()\n",
        "        # print('='*20)\n",
        "        reward_history.append(reward_sum)\n",
        "        val_dir = \"/content/drive/My Drive/RL/LunarLander_gif/\"\n",
        "        if os.path.isdir(val_dir) == False:\n",
        "            os.mkdir(val_dir)\n",
        "\n",
        "        if e  % 50 == 0:\n",
        "            print(\"e is\" ,e)\n",
        "            get_snap_shot(agent = agent ,env_name='LunarLander-v2' ,gif_filename= val_dir + '/episode_{}.gif'.format(e))\n",
        "            # get_snap_shot(agent = agent)\n",
        "        if e > 0 and e % 20 == 0:\n",
        "            agent.update_target_weight()\n",
        "finally:\n",
        "    env.close()"
      ],
      "execution_count": 12,
      "outputs": [
        {
          "output_type": "display_data",
          "data": {
            "application/vnd.jupyter.widget-view+json": {
              "model_id": "0adf1ecd4bd34203b63f69dc8a85ab14",
              "version_minor": 0,
              "version_major": 2
            },
            "text/plain": [
              "HBox(children=(FloatProgress(value=0.0, max=2001.0), HTML(value='')))"
            ]
          },
          "metadata": {
            "tags": []
          }
        },
        {
          "output_type": "stream",
          "text": [
            "e is 0\n",
            "total reward -539.6580444189044\n",
            "e is 50\n",
            "total reward -268.55644538403374\n",
            "e is 100\n",
            "total reward -524.7384339465057\n",
            "e is 150\n",
            "total reward -358.737983750136\n",
            "e is 200\n",
            "total reward -195.49505668834394\n",
            "e is 250\n",
            "total reward -100.02496380077584\n",
            "e is 300\n",
            "total reward -219.71217477172334\n",
            "e is 350\n",
            "total reward -134.43985891539631\n",
            "e is 400\n",
            "total reward -284.0811755691624\n",
            "e is 450\n",
            "total reward -101.63905239485676\n",
            "e is 500\n",
            "total reward -238.7529759055729\n",
            "e is 550\n",
            "total reward -16.8229416645635\n",
            "e is 600\n",
            "total reward 5.629458659428863\n",
            "e is 650\n",
            "total reward -269.469211912834\n",
            "e is 700\n",
            "total reward -91.26863369405174\n",
            "e is 750\n",
            "total reward -39.78163366186887\n",
            "e is 800\n",
            "total reward -2.3535231159827674\n",
            "e is 850\n",
            "total reward -46.135439163605525\n",
            "e is 900\n",
            "total reward 171.57234698229786\n",
            "e is 950\n",
            "total reward 244.72310383115243\n",
            "e is 1000\n",
            "total reward -9.340882296824574\n",
            "e is 1050\n",
            "total reward 249.89313590606451\n",
            "e is 1100\n",
            "total reward 25.332680635176416\n",
            "e is 1150\n",
            "total reward 189.2835183336989\n",
            "e is 1200\n",
            "total reward 209.7127376903424\n",
            "e is 1250\n",
            "total reward 242.40927727275002\n",
            "e is 1300\n",
            "total reward 221.18363807197952\n",
            "e is 1350\n",
            "total reward 7.982265720126236\n",
            "e is 1400\n",
            "total reward 110.47319434790245\n",
            "e is 1450\n",
            "total reward -35.880945484257765\n",
            "e is 1500\n",
            "total reward 234.26438572817722\n",
            "e is 1550\n",
            "total reward 215.9772388329502\n",
            "e is 1600\n",
            "total reward 211.64083014838377\n",
            "e is 1650\n",
            "total reward 168.82948087693214\n",
            "e is 1700\n",
            "total reward 241.58949848430098\n",
            "e is 1750\n",
            "total reward 226.65210791637904\n",
            "e is 1800\n",
            "total reward 244.90368998625308\n",
            "e is 1850\n",
            "total reward 8.590682107480717\n",
            "e is 1900\n",
            "total reward 149.7957381069832\n",
            "e is 1950\n",
            "total reward 41.267897153241364\n",
            "e is 2000\n",
            "total reward 122.34656508546647\n",
            "\n"
          ],
          "name": "stdout"
        }
      ]
    },
    {
      "cell_type": "code",
      "metadata": {
        "id": "AlHEP9EY8tQr",
        "colab_type": "code",
        "colab": {
          "base_uri": "https://localhost:8080/",
          "height": 269
        },
        "outputId": "a51b8b9c-55db-4bed-9ed9-445020880e4c"
      },
      "source": [
        "import matplotlib.pyplot as plt\n",
        "\n",
        "plt.plot(reward_history)\n",
        "plt.ylim(-1000 ,1000)\n",
        "plt.savefig( val_dir + 'trend.png')#儲存圖片"
      ],
      "execution_count": 19,
      "outputs": [
        {
          "output_type": "display_data",
          "data": {
            "image/png": "[encoded data removed]",
            "text/plain": [
              "<Figure size 432x288 with 1 Axes>"
            ]
          },
          "metadata": {
            "tags": [],
            "needs_background": "light"
          }
        }
      ]
    },
    {
      "cell_type": "code",
      "metadata": {
        "id": "_Rx-dpXR8tQu",
        "colab_type": "code",
        "colab": {}
      },
      "source": [
        ""
      ],
      "execution_count": 0,
      "outputs": []
    },
    {
      "cell_type": "code",
      "metadata": {
        "id": "jRlH2gBM8tQw",
        "colab_type": "code",
        "colab": {}
      },
      "source": [
        ""
      ],
      "execution_count": 0,
      "outputs": []
    },
    {
      "cell_type": "code",
      "metadata": {
        "id": "Fl0qHg2Ncise",
        "colab_type": "code",
        "colab": {}
      },
      "source": [
        ""
      ],
      "execution_count": 0,
      "outputs": []
    }
  ]
}